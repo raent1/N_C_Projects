{
 "cells": [
  {
   "cell_type": "markdown",
   "id": "f8112ece",
   "metadata": {},
   "source": [
    "# Задание 2"
   ]
  },
  {
   "cell_type": "markdown",
   "id": "bed4fd1d",
   "metadata": {},
   "source": [
    "**Посчитать суммарную выручку за 2022 год по компаниям из отдельным компаниям из списка:**\n",
    "* если у каких-то организаций нет выручки за 2022 год, то возьмите самую свежую доступную (за другой год);\n",
    "* ответ округлите до целого."
   ]
  },
  {
   "cell_type": "markdown",
   "id": "84ce1f5e",
   "metadata": {},
   "source": [
    "## Описание датасетов"
   ]
  },
  {
   "cell_type": "markdown",
   "id": "52059250",
   "metadata": {},
   "source": [
    "#### main.csv - *основная информация о предприятиях*\n",
    "- ID - уникальный номер объекта;\n",
    "- Name - название;\n",
    "- Address - адрес\n",
    "\n",
    "#### net_property.csv - *указание на сетевые предприятия*\n",
    "- ID - уникальный номер объекта;\n",
    "- IsNetObject - метка сетевого предприятия;\n",
    "\n",
    "#### seats_property.csv - *количество посадочных мест*\n",
    "- ID - уникальный номер объекта;\n",
    "- SeatsCount - количество посадочных мест;\n",
    "- ver_ID - номер версии записи\n",
    "\n",
    "#### type_property.csv - *информация о специализации: столовая, закусочная, кафе, иное*\n",
    "- ID - уникальный номер объекта;\n",
    "- TypeObject - тип объекта;\n",
    "- is_actual - актуальность записи\n",
    "\n",
    "#### indicators_db.sqlite3 - *SQL-база с данными о выручке предприятий и числе сотрудников*\n",
    "- данные за 2019 г.;\n",
    "- данные за 2020-2022 гг.\n",
    "\n",
    "#### Выручка_по_компаниям.xlsx - *XLSX-таблица со срезом ID требуемых компаний*"
   ]
  },
  {
   "cell_type": "code",
   "execution_count": 2,
   "id": "fe9ab9e3",
   "metadata": {},
   "outputs": [],
   "source": [
    "import pandas as pd\n",
    "import numpy as np"
   ]
  },
  {
   "cell_type": "markdown",
   "id": "4e064219",
   "metadata": {},
   "source": [
    "### Чтение датасетов"
   ]
  },
  {
   "cell_type": "code",
   "execution_count": 3,
   "id": "133fb8e5",
   "metadata": {},
   "outputs": [],
   "source": [
    "df1 = pd.read_csv('main.csv')\n",
    "df2 = pd.read_csv('net_property.csv')\n",
    "df3 = pd.read_csv('seats_property.csv')\n",
    "df4 = pd.read_csv('type_property.csv')"
   ]
  },
  {
   "cell_type": "code",
   "execution_count": 4,
   "id": "6a8bcc03",
   "metadata": {},
   "outputs": [],
   "source": [
    "import sqlalchemy as sql"
   ]
  },
  {
   "cell_type": "code",
   "execution_count": 5,
   "id": "ab2d1a3e",
   "metadata": {},
   "outputs": [],
   "source": [
    "con = sql.create_engine('sqlite:///indicators_db.sqlite3')"
   ]
  },
  {
   "cell_type": "code",
   "execution_count": 6,
   "id": "e9616e20",
   "metadata": {},
   "outputs": [],
   "source": [
    "df = pd.read_sql(\"SELECT * FROM sqlite_master WHERE type='table';\", con)"
   ]
  },
  {
   "cell_type": "code",
   "execution_count": 7,
   "id": "94ed549b",
   "metadata": {},
   "outputs": [
    {
     "data": {
      "text/html": [
       "<div>\n",
       "<style scoped>\n",
       "    .dataframe tbody tr th:only-of-type {\n",
       "        vertical-align: middle;\n",
       "    }\n",
       "\n",
       "    .dataframe tbody tr th {\n",
       "        vertical-align: top;\n",
       "    }\n",
       "\n",
       "    .dataframe thead th {\n",
       "        text-align: right;\n",
       "    }\n",
       "</style>\n",
       "<table border=\"1\" class=\"dataframe\">\n",
       "  <thead>\n",
       "    <tr style=\"text-align: right;\">\n",
       "      <th></th>\n",
       "      <th>type</th>\n",
       "      <th>name</th>\n",
       "      <th>tbl_name</th>\n",
       "      <th>rootpage</th>\n",
       "      <th>sql</th>\n",
       "    </tr>\n",
       "  </thead>\n",
       "  <tbody>\n",
       "    <tr>\n",
       "      <th>0</th>\n",
       "      <td>table</td>\n",
       "      <td>org_indicators_2019</td>\n",
       "      <td>org_indicators_2019</td>\n",
       "      <td>2</td>\n",
       "      <td>CREATE TABLE org_indicators_2019 (\\r\\n\\tID BIG...</td>\n",
       "    </tr>\n",
       "    <tr>\n",
       "      <th>1</th>\n",
       "      <td>table</td>\n",
       "      <td>org_indicators_2020_2022</td>\n",
       "      <td>org_indicators_2020_2022</td>\n",
       "      <td>490</td>\n",
       "      <td>CREATE TABLE org_indicators_2020_2022 (\\r\\n\\tI...</td>\n",
       "    </tr>\n",
       "  </tbody>\n",
       "</table>\n",
       "</div>"
      ],
      "text/plain": [
       "    type                      name                  tbl_name  rootpage  \\\n",
       "0  table       org_indicators_2019       org_indicators_2019         2   \n",
       "1  table  org_indicators_2020_2022  org_indicators_2020_2022       490   \n",
       "\n",
       "                                                 sql  \n",
       "0  CREATE TABLE org_indicators_2019 (\\r\\n\\tID BIG...  \n",
       "1  CREATE TABLE org_indicators_2020_2022 (\\r\\n\\tI...  "
      ]
     },
     "execution_count": 7,
     "metadata": {},
     "output_type": "execute_result"
    }
   ],
   "source": [
    "df"
   ]
  },
  {
   "cell_type": "code",
   "execution_count": 8,
   "id": "326178ee",
   "metadata": {},
   "outputs": [],
   "source": [
    "df_sql_select_19 = pd.read_sql('select * from org_indicators_2019', con)"
   ]
  },
  {
   "cell_type": "code",
   "execution_count": 9,
   "id": "4ef6875f",
   "metadata": {},
   "outputs": [],
   "source": [
    "df_sql_select_20_22 = pd.read_sql('select * from org_indicators_2020_2022', con)"
   ]
  },
  {
   "cell_type": "code",
   "execution_count": 10,
   "id": "25d04300",
   "metadata": {},
   "outputs": [],
   "source": [
    "xlsx = pd.ExcelFile('Выручка_по_компаниям.xlsx')"
   ]
  },
  {
   "cell_type": "code",
   "execution_count": 11,
   "id": "5b17a4ba",
   "metadata": {},
   "outputs": [
    {
     "data": {
      "text/plain": [
       "['ХитрыйПустойЛист', 'Лист1']"
      ]
     },
     "execution_count": 11,
     "metadata": {},
     "output_type": "execute_result"
    }
   ],
   "source": [
    "xlsx.sheet_names"
   ]
  },
  {
   "cell_type": "code",
   "execution_count": 12,
   "id": "e81b5eb8",
   "metadata": {},
   "outputs": [],
   "source": [
    "df_ex = pd.read_excel(xlsx, sheet_name = 'Лист1')"
   ]
  },
  {
   "cell_type": "markdown",
   "id": "70620abf",
   "metadata": {},
   "source": [
    "### Выборка необходимых колонок и разворот через pivot"
   ]
  },
  {
   "cell_type": "code",
   "execution_count": 13,
   "id": "38864843",
   "metadata": {},
   "outputs": [],
   "source": [
    "df_19 = df_sql_select_19[df_sql_select_19['INDICATOR_NAME']  == 'Выручка']"
   ]
  },
  {
   "cell_type": "code",
   "execution_count": 14,
   "id": "b41e908f",
   "metadata": {},
   "outputs": [],
   "source": [
    "df_19_piv = df_19.pivot(index = 'ID', columns = ['YEAR','INDICATOR_NAME'], values = 'VALUE')"
   ]
  },
  {
   "cell_type": "code",
   "execution_count": 15,
   "id": "fe61368e",
   "metadata": {},
   "outputs": [],
   "source": [
    "df_20_22 = df_sql_select_20_22[df_sql_select_20_22['INDICATOR_NAME']  == 'Выручка']"
   ]
  },
  {
   "cell_type": "code",
   "execution_count": 16,
   "id": "fd7f5cab",
   "metadata": {},
   "outputs": [],
   "source": [
    "df_20_22_piv = df_20_22.pivot(index = 'ID', columns = ['YEAR','INDICATOR_NAME'], values = 'VALUE')"
   ]
  },
  {
   "cell_type": "code",
   "execution_count": 17,
   "id": "03e73de8",
   "metadata": {},
   "outputs": [
    {
     "data": {
      "text/html": [
       "<div>\n",
       "<style scoped>\n",
       "    .dataframe tbody tr th:only-of-type {\n",
       "        vertical-align: middle;\n",
       "    }\n",
       "\n",
       "    .dataframe tbody tr th {\n",
       "        vertical-align: top;\n",
       "    }\n",
       "\n",
       "    .dataframe thead tr th {\n",
       "        text-align: left;\n",
       "    }\n",
       "\n",
       "    .dataframe thead tr:last-of-type th {\n",
       "        text-align: right;\n",
       "    }\n",
       "</style>\n",
       "<table border=\"1\" class=\"dataframe\">\n",
       "  <thead>\n",
       "    <tr>\n",
       "      <th>YEAR</th>\n",
       "      <th>2019</th>\n",
       "    </tr>\n",
       "    <tr>\n",
       "      <th>INDICATOR_NAME</th>\n",
       "      <th>Выручка</th>\n",
       "    </tr>\n",
       "    <tr>\n",
       "      <th>ID</th>\n",
       "      <th></th>\n",
       "    </tr>\n",
       "  </thead>\n",
       "  <tbody>\n",
       "    <tr>\n",
       "      <th>19630</th>\n",
       "      <td>20522186</td>\n",
       "    </tr>\n",
       "    <tr>\n",
       "      <th>19643</th>\n",
       "      <td>20577873</td>\n",
       "    </tr>\n",
       "    <tr>\n",
       "      <th>19677</th>\n",
       "      <td>34723333</td>\n",
       "    </tr>\n",
       "    <tr>\n",
       "      <th>19710</th>\n",
       "      <td>29753085</td>\n",
       "    </tr>\n",
       "    <tr>\n",
       "      <th>19721</th>\n",
       "      <td>32860968</td>\n",
       "    </tr>\n",
       "    <tr>\n",
       "      <th>...</th>\n",
       "      <td>...</td>\n",
       "    </tr>\n",
       "    <tr>\n",
       "      <th>375830</th>\n",
       "      <td>33223677</td>\n",
       "    </tr>\n",
       "    <tr>\n",
       "      <th>375848</th>\n",
       "      <td>36812489</td>\n",
       "    </tr>\n",
       "    <tr>\n",
       "      <th>375954</th>\n",
       "      <td>21503857</td>\n",
       "    </tr>\n",
       "    <tr>\n",
       "      <th>375956</th>\n",
       "      <td>25910529</td>\n",
       "    </tr>\n",
       "    <tr>\n",
       "      <th>375960</th>\n",
       "      <td>29972121</td>\n",
       "    </tr>\n",
       "  </tbody>\n",
       "</table>\n",
       "<p>6696 rows × 1 columns</p>\n",
       "</div>"
      ],
      "text/plain": [
       "YEAR                2019\n",
       "INDICATOR_NAME   Выручка\n",
       "ID                      \n",
       "19630           20522186\n",
       "19643           20577873\n",
       "19677           34723333\n",
       "19710           29753085\n",
       "19721           32860968\n",
       "...                  ...\n",
       "375830          33223677\n",
       "375848          36812489\n",
       "375954          21503857\n",
       "375956          25910529\n",
       "375960          29972121\n",
       "\n",
       "[6696 rows x 1 columns]"
      ]
     },
     "execution_count": 17,
     "metadata": {},
     "output_type": "execute_result"
    }
   ],
   "source": [
    "df_19_piv"
   ]
  },
  {
   "cell_type": "code",
   "execution_count": 18,
   "id": "bbc25eec",
   "metadata": {},
   "outputs": [
    {
     "data": {
      "text/html": [
       "<div>\n",
       "<style scoped>\n",
       "    .dataframe tbody tr th:only-of-type {\n",
       "        vertical-align: middle;\n",
       "    }\n",
       "\n",
       "    .dataframe tbody tr th {\n",
       "        vertical-align: top;\n",
       "    }\n",
       "\n",
       "    .dataframe thead tr th {\n",
       "        text-align: left;\n",
       "    }\n",
       "\n",
       "    .dataframe thead tr:last-of-type th {\n",
       "        text-align: right;\n",
       "    }\n",
       "</style>\n",
       "<table border=\"1\" class=\"dataframe\">\n",
       "  <thead>\n",
       "    <tr>\n",
       "      <th>YEAR</th>\n",
       "      <th>2020</th>\n",
       "      <th>2021</th>\n",
       "      <th>2022</th>\n",
       "    </tr>\n",
       "    <tr>\n",
       "      <th>INDICATOR_NAME</th>\n",
       "      <th>Выручка</th>\n",
       "      <th>Выручка</th>\n",
       "      <th>Выручка</th>\n",
       "    </tr>\n",
       "    <tr>\n",
       "      <th>ID</th>\n",
       "      <th></th>\n",
       "      <th></th>\n",
       "      <th></th>\n",
       "    </tr>\n",
       "  </thead>\n",
       "  <tbody>\n",
       "    <tr>\n",
       "      <th>19630</th>\n",
       "      <td>31222228.0</td>\n",
       "      <td>21721921.0</td>\n",
       "      <td>NaN</td>\n",
       "    </tr>\n",
       "    <tr>\n",
       "      <th>19643</th>\n",
       "      <td>35670701.0</td>\n",
       "      <td>39125612.0</td>\n",
       "      <td>NaN</td>\n",
       "    </tr>\n",
       "    <tr>\n",
       "      <th>19647</th>\n",
       "      <td>34926614.0</td>\n",
       "      <td>23176004.0</td>\n",
       "      <td>27925131.0</td>\n",
       "    </tr>\n",
       "    <tr>\n",
       "      <th>19657</th>\n",
       "      <td>23410468.0</td>\n",
       "      <td>28065717.0</td>\n",
       "      <td>36074059.0</td>\n",
       "    </tr>\n",
       "    <tr>\n",
       "      <th>19677</th>\n",
       "      <td>NaN</td>\n",
       "      <td>30803884.0</td>\n",
       "      <td>25303592.0</td>\n",
       "    </tr>\n",
       "    <tr>\n",
       "      <th>...</th>\n",
       "      <td>...</td>\n",
       "      <td>...</td>\n",
       "      <td>...</td>\n",
       "    </tr>\n",
       "    <tr>\n",
       "      <th>375884</th>\n",
       "      <td>NaN</td>\n",
       "      <td>32408516.0</td>\n",
       "      <td>NaN</td>\n",
       "    </tr>\n",
       "    <tr>\n",
       "      <th>375933</th>\n",
       "      <td>36102422.0</td>\n",
       "      <td>21245735.0</td>\n",
       "      <td>39298414.0</td>\n",
       "    </tr>\n",
       "    <tr>\n",
       "      <th>375954</th>\n",
       "      <td>NaN</td>\n",
       "      <td>NaN</td>\n",
       "      <td>20002278.0</td>\n",
       "    </tr>\n",
       "    <tr>\n",
       "      <th>375956</th>\n",
       "      <td>NaN</td>\n",
       "      <td>32178479.0</td>\n",
       "      <td>NaN</td>\n",
       "    </tr>\n",
       "    <tr>\n",
       "      <th>375960</th>\n",
       "      <td>NaN</td>\n",
       "      <td>39567594.0</td>\n",
       "      <td>37986011.0</td>\n",
       "    </tr>\n",
       "  </tbody>\n",
       "</table>\n",
       "<p>9612 rows × 3 columns</p>\n",
       "</div>"
      ],
      "text/plain": [
       "YEAR                  2020        2021        2022\n",
       "INDICATOR_NAME     Выручка     Выручка     Выручка\n",
       "ID                                                \n",
       "19630           31222228.0  21721921.0         NaN\n",
       "19643           35670701.0  39125612.0         NaN\n",
       "19647           34926614.0  23176004.0  27925131.0\n",
       "19657           23410468.0  28065717.0  36074059.0\n",
       "19677                  NaN  30803884.0  25303592.0\n",
       "...                    ...         ...         ...\n",
       "375884                 NaN  32408516.0         NaN\n",
       "375933          36102422.0  21245735.0  39298414.0\n",
       "375954                 NaN         NaN  20002278.0\n",
       "375956                 NaN  32178479.0         NaN\n",
       "375960                 NaN  39567594.0  37986011.0\n",
       "\n",
       "[9612 rows x 3 columns]"
      ]
     },
     "execution_count": 18,
     "metadata": {},
     "output_type": "execute_result"
    }
   ],
   "source": [
    "df_20_22_piv"
   ]
  },
  {
   "cell_type": "markdown",
   "id": "95fcfba2",
   "metadata": {},
   "source": [
    "### Удаление уровня \"YEAR\" и переименование колонок"
   ]
  },
  {
   "cell_type": "code",
   "execution_count": 110,
   "id": "72dbe5f7",
   "metadata": {},
   "outputs": [],
   "source": [
    "testing_1 = df_19_piv.droplevel([0], axis = 1)\n",
    "testing_1.columns.names = [None]\n",
    "testing_1.to_csv('test_19.csv')\n",
    "testing_1 = pd.read_csv('test_19.csv')\n",
    "testing_1 = testing_1.rename(columns = {'Выручка':2019})"
   ]
  },
  {
   "cell_type": "code",
   "execution_count": 111,
   "id": "df6726a9",
   "metadata": {},
   "outputs": [],
   "source": [
    "testing_2 = df_20_22_piv.droplevel([0], axis = 1)\n",
    "testing_2.columns.names = [None]\n",
    "testing_2.to_csv('test_20.csv')\n",
    "testing_2 = pd.read_csv('test_20.csv')\n",
    "rename = {'Выручка':2020, 'Выручка.1':2021, 'Выручка.2':2022}\n",
    "testing_2 = testing_2.rename(columns = rename)"
   ]
  },
  {
   "cell_type": "code",
   "execution_count": 112,
   "id": "0b6e6c46",
   "metadata": {},
   "outputs": [
    {
     "data": {
      "text/html": [
       "<div>\n",
       "<style scoped>\n",
       "    .dataframe tbody tr th:only-of-type {\n",
       "        vertical-align: middle;\n",
       "    }\n",
       "\n",
       "    .dataframe tbody tr th {\n",
       "        vertical-align: top;\n",
       "    }\n",
       "\n",
       "    .dataframe thead th {\n",
       "        text-align: right;\n",
       "    }\n",
       "</style>\n",
       "<table border=\"1\" class=\"dataframe\">\n",
       "  <thead>\n",
       "    <tr style=\"text-align: right;\">\n",
       "      <th></th>\n",
       "      <th>ID</th>\n",
       "      <th>2019</th>\n",
       "    </tr>\n",
       "  </thead>\n",
       "  <tbody>\n",
       "    <tr>\n",
       "      <th>0</th>\n",
       "      <td>19630</td>\n",
       "      <td>20522186</td>\n",
       "    </tr>\n",
       "    <tr>\n",
       "      <th>1</th>\n",
       "      <td>19643</td>\n",
       "      <td>20577873</td>\n",
       "    </tr>\n",
       "    <tr>\n",
       "      <th>2</th>\n",
       "      <td>19677</td>\n",
       "      <td>34723333</td>\n",
       "    </tr>\n",
       "    <tr>\n",
       "      <th>3</th>\n",
       "      <td>19710</td>\n",
       "      <td>29753085</td>\n",
       "    </tr>\n",
       "    <tr>\n",
       "      <th>4</th>\n",
       "      <td>19721</td>\n",
       "      <td>32860968</td>\n",
       "    </tr>\n",
       "    <tr>\n",
       "      <th>...</th>\n",
       "      <td>...</td>\n",
       "      <td>...</td>\n",
       "    </tr>\n",
       "    <tr>\n",
       "      <th>6691</th>\n",
       "      <td>375830</td>\n",
       "      <td>33223677</td>\n",
       "    </tr>\n",
       "    <tr>\n",
       "      <th>6692</th>\n",
       "      <td>375848</td>\n",
       "      <td>36812489</td>\n",
       "    </tr>\n",
       "    <tr>\n",
       "      <th>6693</th>\n",
       "      <td>375954</td>\n",
       "      <td>21503857</td>\n",
       "    </tr>\n",
       "    <tr>\n",
       "      <th>6694</th>\n",
       "      <td>375956</td>\n",
       "      <td>25910529</td>\n",
       "    </tr>\n",
       "    <tr>\n",
       "      <th>6695</th>\n",
       "      <td>375960</td>\n",
       "      <td>29972121</td>\n",
       "    </tr>\n",
       "  </tbody>\n",
       "</table>\n",
       "<p>6696 rows × 2 columns</p>\n",
       "</div>"
      ],
      "text/plain": [
       "          ID      2019\n",
       "0      19630  20522186\n",
       "1      19643  20577873\n",
       "2      19677  34723333\n",
       "3      19710  29753085\n",
       "4      19721  32860968\n",
       "...      ...       ...\n",
       "6691  375830  33223677\n",
       "6692  375848  36812489\n",
       "6693  375954  21503857\n",
       "6694  375956  25910529\n",
       "6695  375960  29972121\n",
       "\n",
       "[6696 rows x 2 columns]"
      ]
     },
     "execution_count": 112,
     "metadata": {},
     "output_type": "execute_result"
    }
   ],
   "source": [
    "testing_1"
   ]
  },
  {
   "cell_type": "code",
   "execution_count": 113,
   "id": "8e2414a0",
   "metadata": {},
   "outputs": [],
   "source": [
    "testing = pd.merge(testing_1, testing_2, on = 'ID', how = 'outer')"
   ]
  },
  {
   "cell_type": "code",
   "execution_count": 114,
   "id": "04e7b17b",
   "metadata": {},
   "outputs": [],
   "source": [
    "df_ex = df_ex.drop_duplicates()"
   ]
  },
  {
   "cell_type": "code",
   "execution_count": 115,
   "id": "634256a5",
   "metadata": {},
   "outputs": [],
   "source": [
    "df_test_ex = pd.merge(testing, df_ex, on = 'ID', how='inner')"
   ]
  },
  {
   "cell_type": "code",
   "execution_count": 120,
   "id": "3afdaac8",
   "metadata": {},
   "outputs": [],
   "source": [
    "df_unstacked = df_test_ex.melt('ID').dropna()"
   ]
  },
  {
   "cell_type": "code",
   "execution_count": 130,
   "id": "9af1b75e",
   "metadata": {},
   "outputs": [],
   "source": [
    "sort = df_unstacked.sort_values(by = 'variable', ascending = True)"
   ]
  },
  {
   "cell_type": "code",
   "execution_count": 189,
   "id": "70998bea",
   "metadata": {},
   "outputs": [],
   "source": [
    "mask = sort.drop_duplicates(['ID'], keep = 'last')"
   ]
  },
  {
   "cell_type": "code",
   "execution_count": 190,
   "id": "0656fc98",
   "metadata": {},
   "outputs": [
    {
     "data": {
      "text/html": [
       "<div>\n",
       "<style scoped>\n",
       "    .dataframe tbody tr th:only-of-type {\n",
       "        vertical-align: middle;\n",
       "    }\n",
       "\n",
       "    .dataframe tbody tr th {\n",
       "        vertical-align: top;\n",
       "    }\n",
       "\n",
       "    .dataframe thead th {\n",
       "        text-align: right;\n",
       "    }\n",
       "</style>\n",
       "<table border=\"1\" class=\"dataframe\">\n",
       "  <thead>\n",
       "    <tr style=\"text-align: right;\">\n",
       "      <th></th>\n",
       "      <th>ID</th>\n",
       "      <th>variable</th>\n",
       "      <th>value</th>\n",
       "    </tr>\n",
       "  </thead>\n",
       "  <tbody>\n",
       "    <tr>\n",
       "      <th>4</th>\n",
       "      <td>206594</td>\n",
       "      <td>2019</td>\n",
       "      <td>22495241.0</td>\n",
       "    </tr>\n",
       "    <tr>\n",
       "      <th>28</th>\n",
       "      <td>198181</td>\n",
       "      <td>2020</td>\n",
       "      <td>23312117.0</td>\n",
       "    </tr>\n",
       "    <tr>\n",
       "      <th>25</th>\n",
       "      <td>357706</td>\n",
       "      <td>2020</td>\n",
       "      <td>33208127.0</td>\n",
       "    </tr>\n",
       "    <tr>\n",
       "      <th>23</th>\n",
       "      <td>287998</td>\n",
       "      <td>2020</td>\n",
       "      <td>25325896.0</td>\n",
       "    </tr>\n",
       "    <tr>\n",
       "      <th>18</th>\n",
       "      <td>27549</td>\n",
       "      <td>2020</td>\n",
       "      <td>22491442.0</td>\n",
       "    </tr>\n",
       "    <tr>\n",
       "      <th>33</th>\n",
       "      <td>24109</td>\n",
       "      <td>2021</td>\n",
       "      <td>20306338.0</td>\n",
       "    </tr>\n",
       "    <tr>\n",
       "      <th>62</th>\n",
       "      <td>264876</td>\n",
       "      <td>2022</td>\n",
       "      <td>37021556.0</td>\n",
       "    </tr>\n",
       "    <tr>\n",
       "      <th>48</th>\n",
       "      <td>20105</td>\n",
       "      <td>2022</td>\n",
       "      <td>31684347.0</td>\n",
       "    </tr>\n",
       "    <tr>\n",
       "      <th>51</th>\n",
       "      <td>201139</td>\n",
       "      <td>2022</td>\n",
       "      <td>32111693.0</td>\n",
       "    </tr>\n",
       "    <tr>\n",
       "      <th>53</th>\n",
       "      <td>229655</td>\n",
       "      <td>2022</td>\n",
       "      <td>23942018.0</td>\n",
       "    </tr>\n",
       "    <tr>\n",
       "      <th>54</th>\n",
       "      <td>278358</td>\n",
       "      <td>2022</td>\n",
       "      <td>35301809.0</td>\n",
       "    </tr>\n",
       "    <tr>\n",
       "      <th>56</th>\n",
       "      <td>329985</td>\n",
       "      <td>2022</td>\n",
       "      <td>27679119.0</td>\n",
       "    </tr>\n",
       "    <tr>\n",
       "      <th>58</th>\n",
       "      <td>367959</td>\n",
       "      <td>2022</td>\n",
       "      <td>31952237.0</td>\n",
       "    </tr>\n",
       "    <tr>\n",
       "      <th>59</th>\n",
       "      <td>77651</td>\n",
       "      <td>2022</td>\n",
       "      <td>39876846.0</td>\n",
       "    </tr>\n",
       "    <tr>\n",
       "      <th>61</th>\n",
       "      <td>217895</td>\n",
       "      <td>2022</td>\n",
       "      <td>22259135.0</td>\n",
       "    </tr>\n",
       "    <tr>\n",
       "      <th>63</th>\n",
       "      <td>329058</td>\n",
       "      <td>2022</td>\n",
       "      <td>33157188.0</td>\n",
       "    </tr>\n",
       "  </tbody>\n",
       "</table>\n",
       "</div>"
      ],
      "text/plain": [
       "        ID variable       value\n",
       "4   206594     2019  22495241.0\n",
       "28  198181     2020  23312117.0\n",
       "25  357706     2020  33208127.0\n",
       "23  287998     2020  25325896.0\n",
       "18   27549     2020  22491442.0\n",
       "33   24109     2021  20306338.0\n",
       "62  264876     2022  37021556.0\n",
       "48   20105     2022  31684347.0\n",
       "51  201139     2022  32111693.0\n",
       "53  229655     2022  23942018.0\n",
       "54  278358     2022  35301809.0\n",
       "56  329985     2022  27679119.0\n",
       "58  367959     2022  31952237.0\n",
       "59   77651     2022  39876846.0\n",
       "61  217895     2022  22259135.0\n",
       "63  329058     2022  33157188.0"
      ]
     },
     "execution_count": 190,
     "metadata": {},
     "output_type": "execute_result"
    }
   ],
   "source": [
    "mask"
   ]
  },
  {
   "cell_type": "code",
   "execution_count": 191,
   "id": "6b39ef6e",
   "metadata": {},
   "outputs": [
    {
     "data": {
      "text/plain": [
       "462125109.0"
      ]
     },
     "execution_count": 191,
     "metadata": {},
     "output_type": "execute_result"
    }
   ],
   "source": [
    "mask['value'].sum()"
   ]
  }
 ],
 "metadata": {
  "kernelspec": {
   "display_name": "Python 3 (ipykernel)",
   "language": "python",
   "name": "python3"
  },
  "language_info": {
   "codemirror_mode": {
    "name": "ipython",
    "version": 3
   },
   "file_extension": ".py",
   "mimetype": "text/x-python",
   "name": "python",
   "nbconvert_exporter": "python",
   "pygments_lexer": "ipython3",
   "version": "3.9.12"
  }
 },
 "nbformat": 4,
 "nbformat_minor": 5
}
