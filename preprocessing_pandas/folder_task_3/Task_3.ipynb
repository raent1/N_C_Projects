{
 "cells": [
  {
   "cell_type": "markdown",
   "id": "f8112ece",
   "metadata": {},
   "source": [
    "# Задание 3"
   ]
  },
  {
   "cell_type": "markdown",
   "id": "bed4fd1d",
   "metadata": {},
   "source": [
    "**Выгрузите организации, где число сотрудников в 2020 году 15 и больше:**\n",
    "* если за 2020 год данных по сотрудникам нет, то возьмите за 2019 год;\n",
    "* отсортируйте по возрастанию числа сотрудников;  \n",
    "* если число сотрудников одинаковое, то организации должны идти по убыванию ID."
   ]
  },
  {
   "cell_type": "markdown",
   "id": "bfa3780b",
   "metadata": {},
   "source": [
    "## Описание датасетов"
   ]
  },
  {
   "cell_type": "markdown",
   "id": "25e47578",
   "metadata": {},
   "source": [
    "#### main.csv - *основная информация о предприятиях*\n",
    "- ID - уникальный номер объекта;\n",
    "- Name - название;\n",
    "- Address - адрес\n",
    "\n",
    "#### net_property.csv - *указание на сетевые предприятия*\n",
    "- ID - уникальный номер объекта;\n",
    "- IsNetObject - метка сетевого предприятия;\n",
    "\n",
    "#### seats_property.csv - *количество посадочных мест*\n",
    "- ID - уникальный номер объекта;\n",
    "- SeatsCount - количество посадочных мест;\n",
    "- ver_ID - номер версии записи\n",
    "\n",
    "#### type_property.csv - *информация о специализации: столовая, закусочная, кафе, иное*\n",
    "- ID - уникальный номер объекта;\n",
    "- TypeObject - тип объекта;\n",
    "- is_actual - актуальность записи\n",
    "\n",
    "#### indicators_db.sqlite3 - *SQL-база с данными о выручке предприятий и числе сотрудников*\n",
    "- данные за 2019 г.;\n",
    "- данные за 2020-2022 гг."
   ]
  },
  {
   "cell_type": "code",
   "execution_count": 2,
   "id": "fe9ab9e3",
   "metadata": {},
   "outputs": [],
   "source": [
    "import pandas as pd\n",
    "import numpy as np"
   ]
  },
  {
   "cell_type": "markdown",
   "id": "4e064219",
   "metadata": {},
   "source": [
    "### Чтение датасетов"
   ]
  },
  {
   "cell_type": "code",
   "execution_count": 3,
   "id": "133fb8e5",
   "metadata": {},
   "outputs": [],
   "source": [
    "df1 = pd.read_csv('main.csv')\n",
    "df2 = pd.read_csv('net_property.csv')\n",
    "df3 = pd.read_csv('seats_property.csv')\n",
    "df4 = pd.read_csv('type_property.csv')"
   ]
  },
  {
   "cell_type": "code",
   "execution_count": 4,
   "id": "6a8bcc03",
   "metadata": {},
   "outputs": [],
   "source": [
    "import sqlalchemy as sql"
   ]
  },
  {
   "cell_type": "code",
   "execution_count": 5,
   "id": "ab2d1a3e",
   "metadata": {},
   "outputs": [],
   "source": [
    "con = sql.create_engine('sqlite:///indicators_db.sqlite3')"
   ]
  },
  {
   "cell_type": "code",
   "execution_count": 6,
   "id": "e9616e20",
   "metadata": {},
   "outputs": [],
   "source": [
    "df = pd.read_sql(\"SELECT * FROM sqlite_master WHERE type='table';\", con)"
   ]
  },
  {
   "cell_type": "code",
   "execution_count": 7,
   "id": "94ed549b",
   "metadata": {},
   "outputs": [
    {
     "data": {
      "text/html": [
       "<div>\n",
       "<style scoped>\n",
       "    .dataframe tbody tr th:only-of-type {\n",
       "        vertical-align: middle;\n",
       "    }\n",
       "\n",
       "    .dataframe tbody tr th {\n",
       "        vertical-align: top;\n",
       "    }\n",
       "\n",
       "    .dataframe thead th {\n",
       "        text-align: right;\n",
       "    }\n",
       "</style>\n",
       "<table border=\"1\" class=\"dataframe\">\n",
       "  <thead>\n",
       "    <tr style=\"text-align: right;\">\n",
       "      <th></th>\n",
       "      <th>type</th>\n",
       "      <th>name</th>\n",
       "      <th>tbl_name</th>\n",
       "      <th>rootpage</th>\n",
       "      <th>sql</th>\n",
       "    </tr>\n",
       "  </thead>\n",
       "  <tbody>\n",
       "    <tr>\n",
       "      <th>0</th>\n",
       "      <td>table</td>\n",
       "      <td>org_indicators_2019</td>\n",
       "      <td>org_indicators_2019</td>\n",
       "      <td>2</td>\n",
       "      <td>CREATE TABLE org_indicators_2019 (\\r\\n\\tID BIG...</td>\n",
       "    </tr>\n",
       "    <tr>\n",
       "      <th>1</th>\n",
       "      <td>table</td>\n",
       "      <td>org_indicators_2020_2022</td>\n",
       "      <td>org_indicators_2020_2022</td>\n",
       "      <td>490</td>\n",
       "      <td>CREATE TABLE org_indicators_2020_2022 (\\r\\n\\tI...</td>\n",
       "    </tr>\n",
       "  </tbody>\n",
       "</table>\n",
       "</div>"
      ],
      "text/plain": [
       "    type                      name                  tbl_name  rootpage  \\\n",
       "0  table       org_indicators_2019       org_indicators_2019         2   \n",
       "1  table  org_indicators_2020_2022  org_indicators_2020_2022       490   \n",
       "\n",
       "                                                 sql  \n",
       "0  CREATE TABLE org_indicators_2019 (\\r\\n\\tID BIG...  \n",
       "1  CREATE TABLE org_indicators_2020_2022 (\\r\\n\\tI...  "
      ]
     },
     "execution_count": 7,
     "metadata": {},
     "output_type": "execute_result"
    }
   ],
   "source": [
    "df"
   ]
  },
  {
   "cell_type": "code",
   "execution_count": 8,
   "id": "326178ee",
   "metadata": {},
   "outputs": [],
   "source": [
    "df_sql_select_19 = pd.read_sql('select * from org_indicators_2019', con)"
   ]
  },
  {
   "cell_type": "code",
   "execution_count": 9,
   "id": "4ef6875f",
   "metadata": {},
   "outputs": [],
   "source": [
    "df_sql_select_20_22 = pd.read_sql('select * from org_indicators_2020_2022', con)"
   ]
  },
  {
   "cell_type": "markdown",
   "id": "70620abf",
   "metadata": {},
   "source": [
    "### Выборка необходимых колонок и разворот через pivot"
   ]
  },
  {
   "cell_type": "code",
   "execution_count": 10,
   "id": "38864843",
   "metadata": {},
   "outputs": [],
   "source": [
    "df_19 = df_sql_select_19[df_sql_select_19['INDICATOR_NAME']  == 'Число сотрудников']"
   ]
  },
  {
   "cell_type": "code",
   "execution_count": 11,
   "id": "b41e908f",
   "metadata": {},
   "outputs": [],
   "source": [
    "df_19_piv = df_19.pivot(index = 'ID', columns = ['YEAR','INDICATOR_NAME'], values = 'VALUE')"
   ]
  },
  {
   "cell_type": "code",
   "execution_count": 12,
   "id": "fe61368e",
   "metadata": {},
   "outputs": [],
   "source": [
    "df_20_22 = df_sql_select_20_22[df_sql_select_20_22['INDICATOR_NAME']  == 'Число сотрудников']"
   ]
  },
  {
   "cell_type": "code",
   "execution_count": 13,
   "id": "fd7f5cab",
   "metadata": {},
   "outputs": [],
   "source": [
    "df_20_22_piv = df_20_22.pivot(index = 'ID', columns = ['YEAR','INDICATOR_NAME'], values = 'VALUE')"
   ]
  },
  {
   "cell_type": "code",
   "execution_count": 14,
   "id": "03e73de8",
   "metadata": {},
   "outputs": [
    {
     "data": {
      "text/html": [
       "<div>\n",
       "<style scoped>\n",
       "    .dataframe tbody tr th:only-of-type {\n",
       "        vertical-align: middle;\n",
       "    }\n",
       "\n",
       "    .dataframe tbody tr th {\n",
       "        vertical-align: top;\n",
       "    }\n",
       "\n",
       "    .dataframe thead tr th {\n",
       "        text-align: left;\n",
       "    }\n",
       "\n",
       "    .dataframe thead tr:last-of-type th {\n",
       "        text-align: right;\n",
       "    }\n",
       "</style>\n",
       "<table border=\"1\" class=\"dataframe\">\n",
       "  <thead>\n",
       "    <tr>\n",
       "      <th>YEAR</th>\n",
       "      <th>2020</th>\n",
       "      <th>2021</th>\n",
       "      <th>2022</th>\n",
       "    </tr>\n",
       "    <tr>\n",
       "      <th>INDICATOR_NAME</th>\n",
       "      <th>Число сотрудников</th>\n",
       "      <th>Число сотрудников</th>\n",
       "      <th>Число сотрудников</th>\n",
       "    </tr>\n",
       "    <tr>\n",
       "      <th>ID</th>\n",
       "      <th></th>\n",
       "      <th></th>\n",
       "      <th></th>\n",
       "    </tr>\n",
       "  </thead>\n",
       "  <tbody>\n",
       "    <tr>\n",
       "      <th>19630</th>\n",
       "      <td>NaN</td>\n",
       "      <td>15.0</td>\n",
       "      <td>9.0</td>\n",
       "    </tr>\n",
       "    <tr>\n",
       "      <th>19643</th>\n",
       "      <td>17.0</td>\n",
       "      <td>NaN</td>\n",
       "      <td>NaN</td>\n",
       "    </tr>\n",
       "    <tr>\n",
       "      <th>19647</th>\n",
       "      <td>16.0</td>\n",
       "      <td>15.0</td>\n",
       "      <td>NaN</td>\n",
       "    </tr>\n",
       "    <tr>\n",
       "      <th>19657</th>\n",
       "      <td>NaN</td>\n",
       "      <td>8.0</td>\n",
       "      <td>12.0</td>\n",
       "    </tr>\n",
       "    <tr>\n",
       "      <th>19677</th>\n",
       "      <td>17.0</td>\n",
       "      <td>9.0</td>\n",
       "      <td>NaN</td>\n",
       "    </tr>\n",
       "    <tr>\n",
       "      <th>...</th>\n",
       "      <td>...</td>\n",
       "      <td>...</td>\n",
       "      <td>...</td>\n",
       "    </tr>\n",
       "    <tr>\n",
       "      <th>375884</th>\n",
       "      <td>8.0</td>\n",
       "      <td>10.0</td>\n",
       "      <td>7.0</td>\n",
       "    </tr>\n",
       "    <tr>\n",
       "      <th>375933</th>\n",
       "      <td>NaN</td>\n",
       "      <td>16.0</td>\n",
       "      <td>NaN</td>\n",
       "    </tr>\n",
       "    <tr>\n",
       "      <th>375954</th>\n",
       "      <td>16.0</td>\n",
       "      <td>NaN</td>\n",
       "      <td>11.0</td>\n",
       "    </tr>\n",
       "    <tr>\n",
       "      <th>375956</th>\n",
       "      <td>NaN</td>\n",
       "      <td>NaN</td>\n",
       "      <td>6.0</td>\n",
       "    </tr>\n",
       "    <tr>\n",
       "      <th>375960</th>\n",
       "      <td>13.0</td>\n",
       "      <td>NaN</td>\n",
       "      <td>NaN</td>\n",
       "    </tr>\n",
       "  </tbody>\n",
       "</table>\n",
       "<p>9618 rows × 3 columns</p>\n",
       "</div>"
      ],
      "text/plain": [
       "YEAR                        2020              2021              2022\n",
       "INDICATOR_NAME Число сотрудников Число сотрудников Число сотрудников\n",
       "ID                                                                  \n",
       "19630                        NaN              15.0               9.0\n",
       "19643                       17.0               NaN               NaN\n",
       "19647                       16.0              15.0               NaN\n",
       "19657                        NaN               8.0              12.0\n",
       "19677                       17.0               9.0               NaN\n",
       "...                          ...               ...               ...\n",
       "375884                       8.0              10.0               7.0\n",
       "375933                       NaN              16.0               NaN\n",
       "375954                      16.0               NaN              11.0\n",
       "375956                       NaN               NaN               6.0\n",
       "375960                      13.0               NaN               NaN\n",
       "\n",
       "[9618 rows x 3 columns]"
      ]
     },
     "execution_count": 14,
     "metadata": {},
     "output_type": "execute_result"
    }
   ],
   "source": [
    "df_20_22_piv"
   ]
  },
  {
   "cell_type": "markdown",
   "id": "95fcfba2",
   "metadata": {},
   "source": [
    "### Удаление уровня \"YEAR\" и переименование колонок"
   ]
  },
  {
   "cell_type": "code",
   "execution_count": 15,
   "id": "72dbe5f7",
   "metadata": {},
   "outputs": [],
   "source": [
    "testing_1 = df_19_piv.droplevel([0], axis = 1)\n",
    "testing_1.columns.names = [None]\n",
    "testing_1.to_csv('test_19.csv')\n",
    "testing_1 = pd.read_csv('test_19.csv')\n",
    "testing_1 = testing_1.rename(columns = {'Число сотрудников':2019})"
   ]
  },
  {
   "cell_type": "code",
   "execution_count": 16,
   "id": "df6726a9",
   "metadata": {},
   "outputs": [],
   "source": [
    "testing_2 = df_20_22_piv.droplevel([0], axis = 1)\n",
    "testing_2.columns.names = [None]\n",
    "testing_2.to_csv('test_20.csv')\n",
    "testing_2 = pd.read_csv('test_20.csv')\n",
    "rename = {'Число сотрудников':2020, 'Число сотрудников.1':2021, 'Число сотрудников.2':2022}\n",
    "testing_2 = testing_2.rename(columns = rename)"
   ]
  },
  {
   "cell_type": "code",
   "execution_count": 17,
   "id": "e06dce0a",
   "metadata": {},
   "outputs": [],
   "source": [
    "testing_2 = testing_2.drop([2021,2022], axis = 1)"
   ]
  },
  {
   "cell_type": "code",
   "execution_count": 18,
   "id": "171c85fb",
   "metadata": {},
   "outputs": [],
   "source": [
    "testing = testing_1.merge(testing_2, how = 'outer')"
   ]
  },
  {
   "cell_type": "code",
   "execution_count": 19,
   "id": "4dfe5ed7",
   "metadata": {},
   "outputs": [],
   "source": [
    "testing_drop = testing.dropna(thresh = 2)"
   ]
  },
  {
   "cell_type": "code",
   "execution_count": 20,
   "id": "773562a8",
   "metadata": {},
   "outputs": [
    {
     "data": {
      "text/html": [
       "<div>\n",
       "<style scoped>\n",
       "    .dataframe tbody tr th:only-of-type {\n",
       "        vertical-align: middle;\n",
       "    }\n",
       "\n",
       "    .dataframe tbody tr th {\n",
       "        vertical-align: top;\n",
       "    }\n",
       "\n",
       "    .dataframe thead th {\n",
       "        text-align: right;\n",
       "    }\n",
       "</style>\n",
       "<table border=\"1\" class=\"dataframe\">\n",
       "  <thead>\n",
       "    <tr style=\"text-align: right;\">\n",
       "      <th></th>\n",
       "      <th>ID</th>\n",
       "      <th>2019</th>\n",
       "      <th>2020</th>\n",
       "    </tr>\n",
       "  </thead>\n",
       "  <tbody>\n",
       "    <tr>\n",
       "      <th>0</th>\n",
       "      <td>19630</td>\n",
       "      <td>7.0</td>\n",
       "      <td>NaN</td>\n",
       "    </tr>\n",
       "    <tr>\n",
       "      <th>1</th>\n",
       "      <td>19647</td>\n",
       "      <td>14.0</td>\n",
       "      <td>16.0</td>\n",
       "    </tr>\n",
       "    <tr>\n",
       "      <th>2</th>\n",
       "      <td>19681</td>\n",
       "      <td>18.0</td>\n",
       "      <td>16.0</td>\n",
       "    </tr>\n",
       "    <tr>\n",
       "      <th>3</th>\n",
       "      <td>19688</td>\n",
       "      <td>18.0</td>\n",
       "      <td>16.0</td>\n",
       "    </tr>\n",
       "    <tr>\n",
       "      <th>4</th>\n",
       "      <td>19708</td>\n",
       "      <td>6.0</td>\n",
       "      <td>14.0</td>\n",
       "    </tr>\n",
       "    <tr>\n",
       "      <th>...</th>\n",
       "      <td>...</td>\n",
       "      <td>...</td>\n",
       "      <td>...</td>\n",
       "    </tr>\n",
       "    <tr>\n",
       "      <th>9851</th>\n",
       "      <td>375760</td>\n",
       "      <td>NaN</td>\n",
       "      <td>10.0</td>\n",
       "    </tr>\n",
       "    <tr>\n",
       "      <th>9852</th>\n",
       "      <td>375786</td>\n",
       "      <td>NaN</td>\n",
       "      <td>7.0</td>\n",
       "    </tr>\n",
       "    <tr>\n",
       "      <th>9853</th>\n",
       "      <td>375822</td>\n",
       "      <td>NaN</td>\n",
       "      <td>13.0</td>\n",
       "    </tr>\n",
       "    <tr>\n",
       "      <th>9855</th>\n",
       "      <td>375848</td>\n",
       "      <td>NaN</td>\n",
       "      <td>12.0</td>\n",
       "    </tr>\n",
       "    <tr>\n",
       "      <th>9857</th>\n",
       "      <td>375960</td>\n",
       "      <td>NaN</td>\n",
       "      <td>13.0</td>\n",
       "    </tr>\n",
       "  </tbody>\n",
       "</table>\n",
       "<p>8888 rows × 3 columns</p>\n",
       "</div>"
      ],
      "text/plain": [
       "          ID  2019  2020\n",
       "0      19630   7.0   NaN\n",
       "1      19647  14.0  16.0\n",
       "2      19681  18.0  16.0\n",
       "3      19688  18.0  16.0\n",
       "4      19708   6.0  14.0\n",
       "...      ...   ...   ...\n",
       "9851  375760   NaN  10.0\n",
       "9852  375786   NaN   7.0\n",
       "9853  375822   NaN  13.0\n",
       "9855  375848   NaN  12.0\n",
       "9857  375960   NaN  13.0\n",
       "\n",
       "[8888 rows x 3 columns]"
      ]
     },
     "execution_count": 20,
     "metadata": {},
     "output_type": "execute_result"
    }
   ],
   "source": [
    "testing_drop"
   ]
  },
  {
   "cell_type": "code",
   "execution_count": 21,
   "id": "3aee0a51",
   "metadata": {},
   "outputs": [],
   "source": [
    "test_melt = testing_drop.melt('ID').dropna()"
   ]
  },
  {
   "cell_type": "code",
   "execution_count": 22,
   "id": "d6b774c5",
   "metadata": {},
   "outputs": [],
   "source": [
    "test_sort = test_melt.sort_values(by = 'variable', ascending = True)"
   ]
  },
  {
   "cell_type": "code",
   "execution_count": 23,
   "id": "68bb8951",
   "metadata": {},
   "outputs": [],
   "source": [
    "test_last = test_melt.drop_duplicates(['ID'], keep = 'last')"
   ]
  },
  {
   "cell_type": "code",
   "execution_count": 24,
   "id": "e88a53bb",
   "metadata": {},
   "outputs": [],
   "source": [
    "test_final = test_last[test_last['value'] >= 15].drop('variable', axis = 1)"
   ]
  },
  {
   "cell_type": "code",
   "execution_count": 25,
   "id": "12677f21",
   "metadata": {},
   "outputs": [],
   "source": [
    "renaming = {'ID':'Идентификатор', 'value':'Сотрудники 2019_2020'}"
   ]
  },
  {
   "cell_type": "code",
   "execution_count": 26,
   "id": "2d8dcc28",
   "metadata": {},
   "outputs": [],
   "source": [
    "result = test_final.rename(columns = renaming).sort_values(by = ['Сотрудники 2019_2020','Идентификатор'], \n",
    "                                                           ascending = [True, False])"
   ]
  },
  {
   "cell_type": "code",
   "execution_count": 27,
   "id": "9ddb4dae",
   "metadata": {},
   "outputs": [],
   "source": [
    "result['Сотрудники 2019_2020'] = result['Сотрудники 2019_2020'].astype(int)"
   ]
  },
  {
   "cell_type": "code",
   "execution_count": 28,
   "id": "da032417",
   "metadata": {},
   "outputs": [],
   "source": [
    "result.to_csv('count_employees.csv', index = False)"
   ]
  },
  {
   "cell_type": "code",
   "execution_count": 29,
   "id": "21d383cc",
   "metadata": {},
   "outputs": [
    {
     "data": {
      "text/html": [
       "<div>\n",
       "<style scoped>\n",
       "    .dataframe tbody tr th:only-of-type {\n",
       "        vertical-align: middle;\n",
       "    }\n",
       "\n",
       "    .dataframe tbody tr th {\n",
       "        vertical-align: top;\n",
       "    }\n",
       "\n",
       "    .dataframe thead th {\n",
       "        text-align: right;\n",
       "    }\n",
       "</style>\n",
       "<table border=\"1\" class=\"dataframe\">\n",
       "  <thead>\n",
       "    <tr style=\"text-align: right;\">\n",
       "      <th></th>\n",
       "      <th>Идентификатор</th>\n",
       "      <th>Сотрудники 2019_2020</th>\n",
       "    </tr>\n",
       "  </thead>\n",
       "  <tbody>\n",
       "    <tr>\n",
       "      <th>17770</th>\n",
       "      <td>375648</td>\n",
       "      <td>15</td>\n",
       "    </tr>\n",
       "    <tr>\n",
       "      <th>17766</th>\n",
       "      <td>375575</td>\n",
       "      <td>15</td>\n",
       "    </tr>\n",
       "    <tr>\n",
       "      <th>15511</th>\n",
       "      <td>375534</td>\n",
       "      <td>15</td>\n",
       "    </tr>\n",
       "    <tr>\n",
       "      <th>6615</th>\n",
       "      <td>375320</td>\n",
       "      <td>15</td>\n",
       "    </tr>\n",
       "    <tr>\n",
       "      <th>17757</th>\n",
       "      <td>375119</td>\n",
       "      <td>15</td>\n",
       "    </tr>\n",
       "    <tr>\n",
       "      <th>...</th>\n",
       "      <td>...</td>\n",
       "      <td>...</td>\n",
       "    </tr>\n",
       "    <tr>\n",
       "      <th>8972</th>\n",
       "      <td>20838</td>\n",
       "      <td>19</td>\n",
       "    </tr>\n",
       "    <tr>\n",
       "      <th>66</th>\n",
       "      <td>20503</td>\n",
       "      <td>19</td>\n",
       "    </tr>\n",
       "    <tr>\n",
       "      <th>15534</th>\n",
       "      <td>20315</td>\n",
       "      <td>19</td>\n",
       "    </tr>\n",
       "    <tr>\n",
       "      <th>8928</th>\n",
       "      <td>20045</td>\n",
       "      <td>19</td>\n",
       "    </tr>\n",
       "    <tr>\n",
       "      <th>8923</th>\n",
       "      <td>19997</td>\n",
       "      <td>19</td>\n",
       "    </tr>\n",
       "  </tbody>\n",
       "</table>\n",
       "<p>3141 rows × 2 columns</p>\n",
       "</div>"
      ],
      "text/plain": [
       "       Идентификатор  Сотрудники 2019_2020\n",
       "17770         375648                    15\n",
       "17766         375575                    15\n",
       "15511         375534                    15\n",
       "6615          375320                    15\n",
       "17757         375119                    15\n",
       "...              ...                   ...\n",
       "8972           20838                    19\n",
       "66             20503                    19\n",
       "15534          20315                    19\n",
       "8928           20045                    19\n",
       "8923           19997                    19\n",
       "\n",
       "[3141 rows x 2 columns]"
      ]
     },
     "execution_count": 29,
     "metadata": {},
     "output_type": "execute_result"
    }
   ],
   "source": [
    "result"
   ]
  },
  {
   "cell_type": "code",
   "execution_count": null,
   "id": "853aed18",
   "metadata": {},
   "outputs": [],
   "source": []
  }
 ],
 "metadata": {
  "kernelspec": {
   "display_name": "Python 3 (ipykernel)",
   "language": "python",
   "name": "python3"
  },
  "language_info": {
   "codemirror_mode": {
    "name": "ipython",
    "version": 3
   },
   "file_extension": ".py",
   "mimetype": "text/x-python",
   "name": "python",
   "nbconvert_exporter": "python",
   "pygments_lexer": "ipython3",
   "version": "3.9.12"
  }
 },
 "nbformat": 4,
 "nbformat_minor": 5
}
