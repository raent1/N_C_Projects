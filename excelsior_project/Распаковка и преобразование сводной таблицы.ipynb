{
 "cells": [
  {
   "cell_type": "markdown",
   "id": "ca49b16b",
   "metadata": {},
   "source": [
    "## Принцип работы Python - скрипта:\n",
    "### Запустить и указать: \n",
    "### 1) количество считываемых файлов\n",
    "### 2) путь к каждому из файлов с указанием формата \".xlsx\" "
   ]
  },
  {
   "cell_type": "code",
   "execution_count": 11,
   "id": "f92a6aec",
   "metadata": {},
   "outputs": [
    {
     "name": "stdout",
     "output_type": "stream",
     "text": [
      "Количество файлов = 2\n",
      "Путь к файлу c без \".xlsx\" = Подразделение1\n",
      "Путь к файлу c без \".xlsx\" = Подразделение2\n"
     ]
    }
   ],
   "source": [
    "import numpy as np\n",
    "import pandas as pd\n",
    "\n",
    "#Определение функции распаковки\n",
    "\n",
    "def xlsx_to_df(dic_n):\n",
    "    \n",
    "    \"\"\"\n",
    "    The function reads Excel type file, converts every sheet, \n",
    "    converts to DataFrame and merges to one table \n",
    "    \n",
    "    :param dic_n: the name of path to file from dictionary\n",
    "\n",
    "    :return: the one dataset with all sheets\n",
    "    \"\"\"\n",
    "    \n",
    "    xlsx1 = pd.ExcelFile(dic_n)\n",
    "    df1_x1 = pd.read_excel(xlsx1, sheet_name='Часы 01-23')\n",
    "    df2_x1 = pd.read_excel(xlsx1, sheet_name='Часы 02-23')\n",
    "    df12_x1 = pd.merge(df1_x1, df2_x1, on=['Компания', 'Фио', 'Подразделение'], how='outer')\n",
    "    return df12_x1\n",
    "\n",
    "#Указание количества считываемых файлов и задание пути\n",
    "dic = {}\n",
    "n_files = int(input('Количество файлов = '))\n",
    "for i in range(n_files):\n",
    "    path_file = str(input('Путь к файлу c без \".xlsx\" = ')+'.xlsx')\n",
    "    dic[i] = path_file\n",
    "\n",
    "#Распаковка с использованием функции и объединение в единую таблицу\n",
    "lst_df = []\n",
    "for j in range(n_files):\n",
    "    df = xlsx_to_df(dic[j])\n",
    "    lst_df.append(df)\n",
    "df_concat = pd.concat(lst_df)\n",
    "\n",
    "#Преобразование сводной таблицы\n",
    "data = df_concat.melt(\n",
    "    value_name='hours',\n",
    "    var_name='date',\n",
    "    value_vars=df_concat.columns.to_list()[3:],\n",
    "    id_vars=df_concat.columns.to_list()[:3]\n",
    ")\n",
    "\n",
    "#Удаление пропусков и переименование\n",
    "data.dropna(subset=['hours'], inplace=True)\n",
    "RENAMING_INPUT_DATA = {\n",
    "    'Компания': 'company',\n",
    "    'Фио': 'name_id',\n",
    "    'Подразделение': 'division'\n",
    "}\n",
    "data.rename(columns=RENAMING_INPUT_DATA, inplace=True)\n",
    "\n",
    "#Сохранение в формате .csv\n",
    "data.to_csv('Все подразделения.csv', index = False)"
   ]
  },
  {
   "cell_type": "markdown",
   "id": "452b5545",
   "metadata": {},
   "source": [
    "### *Ремарка: подразумевается, что на вход идут идентичные файлы с одинаковыми колонками и листами \"Часы 01-23\" и \"Часы 02-23\""
   ]
  }
 ],
 "metadata": {
  "kernelspec": {
   "display_name": "Python 3 (ipykernel)",
   "language": "python",
   "name": "python3"
  },
  "language_info": {
   "codemirror_mode": {
    "name": "ipython",
    "version": 3
   },
   "file_extension": ".py",
   "mimetype": "text/x-python",
   "name": "python",
   "nbconvert_exporter": "python",
   "pygments_lexer": "ipython3",
   "version": "3.9.12"
  }
 },
 "nbformat": 4,
 "nbformat_minor": 5
}
